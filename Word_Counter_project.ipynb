{
 "cells": [
  {
   "cell_type": "markdown",
   "id": "5d200cde",
   "metadata": {},
   "source": [
    "# Word Counter Program"
   ]
  },
  {
   "cell_type": "code",
   "execution_count": 1,
   "id": "4c3413dd",
   "metadata": {},
   "outputs": [],
   "source": [
    "import string\n",
    "from collections import Counter\n",
    "\n",
    "# Function to clean and count words\n",
    "def count_words(text, exclude_stop_words=False):\n",
    "    \"\"\"Counts total words and their frequencies.\n",
    "    \n",
    "    Args:\n",
    "        text (str): Input text to count words.\n",
    "        exclude_stop_words (bool): Whether to exclude common stop words.\n",
    "\n",
    "    Returns:\n",
    "        tuple: Total word count and dictionary of word frequencies.\n",
    "    \"\"\"\n",
    "    # List of common stop words\n",
    "    STOP_WORDS = {\"the\", \"and\", \"is\", \"in\", \"to\", \"a\", \"of\", \"it\", \"on\", \"for\", \"with\", \"as\", \"at\", \"by\", \"this\", \"an\", \"that\"}\n",
    "    \n",
    "    # Remove punctuation and normalize case\n",
    "    translator = str.maketrans(\"\", \"\", string.punctuation)\n",
    "    cleaned_text = text.translate(translator).lower()\n",
    "    \n",
    "    # Split into words\n",
    "    words = cleaned_text.split()\n",
    "    \n",
    "    # Filter stop words if enabled\n",
    "    if exclude_stop_words:\n",
    "        words = [word for word in words if word not in STOP_WORDS]\n",
    "    \n",
    "    # Count words\n",
    "    total_words = len(words)\n",
    "    word_frequencies = Counter(words)\n",
    "    \n",
    "    return total_words, word_frequencies"
   ]
  },
  {
   "cell_type": "code",
   "execution_count": 3,
   "id": "a0028337",
   "metadata": {},
   "outputs": [],
   "source": [
    "# Function to display results\n",
    "def display_results(total_words, word_frequencies):\n",
    "    \"\"\"Displays total word count and word frequencies.\"\"\"\n",
    "    print(\"\\n=== Results ===\")\n",
    "    print(f\"Total Words: {total_words}\")\n",
    "    print(\"\\nWord Frequencies:\")\n",
    "    for word, count in word_frequencies.most_common():\n",
    "        print(f\"{word}: {count}\")"
   ]
  },
  {
   "cell_type": "code",
   "execution_count": 5,
   "id": "d5f12d72",
   "metadata": {},
   "outputs": [],
   "source": [
    "# Main program loop \n",
    "def word_counter_notebook():\n",
    "    print(\"=== Word Counter ===\")\n",
    "    \n",
    "    # Step 1: Choose input method\n",
    "    choice = input(\"Enter '1' to input text manually or '2' to load from a file: \").strip()\n",
    "    text = \"\"\n",
    "    \n",
    "    if choice == '1':\n",
    "        # Input text manually\n",
    "        text = input(\"Enter your text: \").strip()\n",
    "    elif choice == '2':\n",
    "        # Load text from a file\n",
    "        file_path = input(\"Enter the file path: \").strip()\n",
    "        try:\n",
    "            with open(file_path, 'r') as file:\n",
    "                text = file.read()\n",
    "        except FileNotFoundError:\n",
    "            print(\"Error: File not found!\")\n",
    "            return\n",
    "    else:\n",
    "        print(\"Invalid choice. Exiting.\")\n",
    "        return\n",
    "    \n",
    "    # Step 2: Choose whether to exclude stop words\n",
    "    exclude_stop_words = input(\"Exclude common stop words (yes/no)? \").strip().lower() == \"yes\"\n",
    "    \n",
    "    # Step 3: Count words\n",
    "    total_words, word_frequencies = count_words(text, exclude_stop_words)\n",
    "    \n",
    "    # Step 4: Display results\n",
    "    display_results(total_words, word_frequencies)\n",
    "    \n",
    "    # Step 5: Save results to a file (optional)\n",
    "    save_choice = input(\"\\nSave results to a file (yes/no)? \").strip().lower()\n",
    "    if save_choice == \"yes\":\n",
    "        file_name = input(\"Enter the file name (default: word_counts.txt): \").strip() or \"word_counts.txt\"\n",
    "        with open(file_name, \"w\") as file:\n",
    "            file.write(\"Word Frequencies:\\n\")\n",
    "            for word, count in word_frequencies.items():\n",
    "                file.write(f\"{word}: {count}\\n\")\n",
    "        print(f\"Results saved to {file_name}!\")"
   ]
  },
  {
   "cell_type": "code",
   "execution_count": 35,
   "id": "1d8328ef",
   "metadata": {},
   "outputs": [
    {
     "name": "stdout",
     "output_type": "stream",
     "text": [
      "=== Word Counter ===\n"
     ]
    },
    {
     "name": "stdin",
     "output_type": "stream",
     "text": [
      "Enter '1' to input text manually or '2' to load from a file:  1\n",
      "Enter your text:   HI I AM NATURALLY HAPPAY IN WORLD. THANKYOU\n",
      "Exclude common stop words (yes/no)?  yes\n"
     ]
    },
    {
     "name": "stdout",
     "output_type": "stream",
     "text": [
      "\n",
      "=== Results ===\n",
      "Total Words: 7\n",
      "\n",
      "Word Frequencies:\n",
      "hi: 1\n",
      "i: 1\n",
      "am: 1\n",
      "naturally: 1\n",
      "happay: 1\n",
      "world: 1\n",
      "thankyou: 1\n"
     ]
    },
    {
     "name": "stdin",
     "output_type": "stream",
     "text": [
      "\n",
      "Save results to a file (yes/no)?  yes\n",
      "Enter the file name (default: word_counts.txt):  word_counts.txt\n"
     ]
    },
    {
     "name": "stdout",
     "output_type": "stream",
     "text": [
      "Results saved to word_counts.txt!\n"
     ]
    }
   ],
   "source": [
    "# Run the word counter in the notebook\n",
    "word_counter_notebook()\n"
   ]
  },
  {
   "cell_type": "code",
   "execution_count": null,
   "id": "d0b216c9-bcdf-4f6d-aaf9-5e7936247668",
   "metadata": {},
   "outputs": [],
   "source": []
  }
 ],
 "metadata": {
  "kernelspec": {
   "display_name": "Python 3 (ipykernel)",
   "language": "python",
   "name": "python3"
  },
  "language_info": {
   "codemirror_mode": {
    "name": "ipython",
    "version": 3
   },
   "file_extension": ".py",
   "mimetype": "text/x-python",
   "name": "python",
   "nbconvert_exporter": "python",
   "pygments_lexer": "ipython3",
   "version": "3.12.4"
  }
 },
 "nbformat": 4,
 "nbformat_minor": 5
}
